{
 "cells": [
  {
   "cell_type": "code",
   "execution_count": 1,
   "metadata": {},
   "outputs": [],
   "source": [
    "# Required Libraries\n",
    "import yfinance as yf\n",
    "import pandas as pd\n",
    "import numpy as np\n",
    "import matplotlib.pyplot as plt\n",
    "import matplotlib.ticker as mtick\n",
    "import math\n",
    "import scipy as sco\n",
    "import matplotlib.lines as mlines\n",
    "import warnings\n",
    "\n",
    "warnings.filterwarnings('ignore')"
   ]
  },
  {
   "cell_type": "code",
   "execution_count": 27,
   "metadata": {},
   "outputs": [
    {
     "name": "stdout",
     "output_type": "stream",
     "text": [
      "[*********************100%%**********************]  1 of 1 completed\n",
      "[*********************100%%**********************]  1 of 1 completed\n",
      "[*********************100%%**********************]  1 of 1 completed\n"
     ]
    }
   ],
   "source": [
    "# Data Collecting\n",
    "\n",
    "# Traditional Asset Classes Study. 1- Local (EM) Equities, 2- Developed Market Equities, 3- Real Estate, 4- Cash (country rates)\n",
    "# IBOV, IVV (S&P500 + USD/BRL), IFIX, CDI, respectively.\n",
    "\n",
    "# Defining dates range\n",
    "start_date = '2004-01-01'\n",
    "end_date = '2023-10-26'\n",
    "\n",
    "# Symbols on YahooFinance\n",
    "dollar_symbol = 'BRL=X'\n",
    "sp500_symbol = 'IVV'\n",
    "ibov_symbol = '^BVSP'\n",
    "\n",
    "# Simple Returns will be used, mainly because of Asset combinations on portfolio. Solely evaluated, Log-Returns would do better.\n",
    "\n",
    "# IBOV Data - Yahoo Finance\n",
    "ibov_data = yf.download(ibov_symbol, start=start_date, end=end_date)\n",
    "\n",
    "# IFIX Data - Reading local spreadsheet file. Collected w/ Google Sheets & Google Finance. YF doesn't have the data.\n",
    "ifix_data = pd.read_excel('Historico IFIX 01-01-2013 ate 20-10-2023.xlsx', index_col='Date')\n",
    "# Filtering. IFIX Start Date: set/2012)\n",
    "ifix_data = ifix_data[(ifix_data.index >= start_date) & (ifix_data.index <= end_date)]\n",
    "\n",
    "# IVV Data - S&P500 index variation + USD/BRL exchange.\n",
    "dollar_data = yf.download(dollar_symbol, start=start_date, end=end_date)\n",
    "sp500_data = yf.download(sp500_symbol, start=start_date, end=end_date)\n",
    "# Joining to combine variations\n",
    "ivv_data = pd.concat([dollar_data['Close'], sp500_data['Close']], axis=1)\n",
    "ivv_data.columns = ['Dollar', 'SP500']\n",
    "\n",
    "# CDI Data - Central Bank API. Fetch and returns an interval with daily Selic rates data\n",
    "url_bcb = f'https://api.bcb.gov.br/dados/serie/bcdata.sgs.11/dados?formato=json&dataInicial={start_date}&dataFinal={end_date}'\n",
    "cdi_data = pd.read_json(url_bcb)"
   ]
  },
  {
   "cell_type": "code",
   "execution_count": 44,
   "metadata": {},
   "outputs": [
    {
     "data": {
      "text/html": [
       "<div>\n",
       "<style scoped>\n",
       "    .dataframe tbody tr th:only-of-type {\n",
       "        vertical-align: middle;\n",
       "    }\n",
       "\n",
       "    .dataframe tbody tr th {\n",
       "        vertical-align: top;\n",
       "    }\n",
       "\n",
       "    .dataframe thead th {\n",
       "        text-align: right;\n",
       "    }\n",
       "</style>\n",
       "<table border=\"1\" class=\"dataframe\">\n",
       "  <thead>\n",
       "    <tr style=\"text-align: right;\">\n",
       "      <th></th>\n",
       "      <th>Open</th>\n",
       "      <th>High</th>\n",
       "      <th>Low</th>\n",
       "      <th>Close</th>\n",
       "      <th>Adj Close</th>\n",
       "      <th>Volume</th>\n",
       "    </tr>\n",
       "    <tr>\n",
       "      <th>Date</th>\n",
       "      <th></th>\n",
       "      <th></th>\n",
       "      <th></th>\n",
       "      <th></th>\n",
       "      <th></th>\n",
       "      <th></th>\n",
       "    </tr>\n",
       "  </thead>\n",
       "  <tbody>\n",
       "    <tr>\n",
       "      <th>2004-01-02</th>\n",
       "      <td>22233.0</td>\n",
       "      <td>22450.0</td>\n",
       "      <td>22208.0</td>\n",
       "      <td>22445.0</td>\n",
       "      <td>22445.0</td>\n",
       "      <td>0</td>\n",
       "    </tr>\n",
       "    <tr>\n",
       "      <th>2004-01-05</th>\n",
       "      <td>22445.0</td>\n",
       "      <td>23532.0</td>\n",
       "      <td>22445.0</td>\n",
       "      <td>23532.0</td>\n",
       "      <td>23532.0</td>\n",
       "      <td>0</td>\n",
       "    </tr>\n",
       "    <tr>\n",
       "      <th>2004-01-06</th>\n",
       "      <td>23532.0</td>\n",
       "      <td>23976.0</td>\n",
       "      <td>23180.0</td>\n",
       "      <td>23576.0</td>\n",
       "      <td>23576.0</td>\n",
       "      <td>0</td>\n",
       "    </tr>\n",
       "    <tr>\n",
       "      <th>2004-01-07</th>\n",
       "      <td>23576.0</td>\n",
       "      <td>23899.0</td>\n",
       "      <td>23320.0</td>\n",
       "      <td>23320.0</td>\n",
       "      <td>23320.0</td>\n",
       "      <td>0</td>\n",
       "    </tr>\n",
       "    <tr>\n",
       "      <th>2004-01-08</th>\n",
       "      <td>23334.0</td>\n",
       "      <td>23718.0</td>\n",
       "      <td>23122.0</td>\n",
       "      <td>23717.0</td>\n",
       "      <td>23717.0</td>\n",
       "      <td>0</td>\n",
       "    </tr>\n",
       "  </tbody>\n",
       "</table>\n",
       "</div>"
      ],
      "text/plain": [
       "               Open     High      Low    Close  Adj Close  Volume\n",
       "Date                                                             \n",
       "2004-01-02  22233.0  22450.0  22208.0  22445.0    22445.0       0\n",
       "2004-01-05  22445.0  23532.0  22445.0  23532.0    23532.0       0\n",
       "2004-01-06  23532.0  23976.0  23180.0  23576.0    23576.0       0\n",
       "2004-01-07  23576.0  23899.0  23320.0  23320.0    23320.0       0\n",
       "2004-01-08  23334.0  23718.0  23122.0  23717.0    23717.0       0"
      ]
     },
     "execution_count": 44,
     "metadata": {},
     "output_type": "execute_result"
    }
   ],
   "source": [
    "ibov_data.head()"
   ]
  },
  {
   "cell_type": "code",
   "execution_count": 56,
   "metadata": {},
   "outputs": [
    {
     "name": "stdout",
     "output_type": "stream",
     "text": [
      "Adj Close    12.000162\n",
      "dtype: float64\n"
     ]
    }
   ],
   "source": [
    "# Data Processing: Cleaning & Standardization\n",
    "\n",
    "# IBOV Data\n",
    "#ibov_data.head()\n",
    "ibov_data_test = pd.DataFrame(ibov_data['Adj Close'].pct_change().fillna(0)*100)\n",
    "ibov_avg_return = ibov_data_test.mean()*252\n",
    "ibov_std_dev = ibov_data_test.ewm(span=252).std().iloc[-1] * np.sqrt(252)\n",
    "\n",
    "print(ibov_avg_return)\n",
    "\n"
   ]
  },
  {
   "cell_type": "code",
   "execution_count": null,
   "metadata": {},
   "outputs": [],
   "source": [
    "#dollar_ivv = dollar_ivv.drop(dollar_ivv.index[0])\n",
    "# Calculating intraday percentage change (%)\n",
    "dollar_ivv['Dollar_Return'] = dollar_ivv['Dollar'].pct_change()\n",
    "dollar_ivv['SP500_Return'] = dollar_ivv['SP500'].pct_change()\n",
    "dollar_ivv = dollar_ivv.fillna(0)\n",
    "# Adding up the variations\n",
    "dollar_ivv['IVV'] = dollar_ivv['Dollar_Return'] + dollar_ivv['SP500_Return']"
   ]
  },
  {
   "cell_type": "code",
   "execution_count": 9,
   "metadata": {},
   "outputs": [],
   "source": [
    "def my_function():\n",
    "    \"\"\"\n",
    "        Docstring. Primeira linha resumo da funcionalidade\n",
    "\n",
    "        Params: explicar cada parâmetro. separar a explicação de cada um deles em uma linha específica\n",
    "\n",
    "        Return: Se tiver um retorno, escrever sobre o retorno. Se tiver raise de exceções, \n",
    "    \"\"\"\n",
    "\n"
   ]
  },
  {
   "cell_type": "code",
   "execution_count": null,
   "metadata": {},
   "outputs": [],
   "source": [
    "def read_selic_data(start_date, end_date):\n",
    "    \"\"\"\n",
    "    Fetch and returns an interval with daily Selic rates data\n",
    "    \"\"\"\n",
    "    url_bcb = f'https://api.bcb.gov.br/dados/serie/bcdata.sgs.11/dados?formato=json&dataInicial={start_date}&dataFinal={end_date}'\n",
    "    historical_selic = pd.read_json(url_bcb)\n",
    "    return historical_selic\n",
    "\n",
    "cdi_data = read_selic_data(start_date, end_date)"
   ]
  }
 ],
 "metadata": {
  "kernelspec": {
   "display_name": "Python 3.11.2 64-bit",
   "language": "python",
   "name": "python3"
  },
  "language_info": {
   "codemirror_mode": {
    "name": "ipython",
    "version": 3
   },
   "file_extension": ".py",
   "mimetype": "text/x-python",
   "name": "python",
   "nbconvert_exporter": "python",
   "pygments_lexer": "ipython3",
   "version": "3.11.2"
  },
  "orig_nbformat": 4,
  "vscode": {
   "interpreter": {
    "hash": "5ed3783b1cfa37f0fa696bb81bc361141322c1ccb14df37088ac4e520892755d"
   }
  }
 },
 "nbformat": 4,
 "nbformat_minor": 2
}
