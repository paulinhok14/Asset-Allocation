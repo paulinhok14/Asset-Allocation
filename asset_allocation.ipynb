{
 "cells": [
  {
   "cell_type": "code",
   "execution_count": 38,
   "metadata": {},
   "outputs": [],
   "source": [
    "# Required Libraries\n",
    "import yfinance as yf\n",
    "import pandas as pd\n",
    "import numpy as np\n",
    "import matplotlib.pyplot as plt\n",
    "import matplotlib.ticker as mtick\n",
    "import seaborn as sns\n",
    "import math\n",
    "import scipy as sco\n",
    "import matplotlib.lines as mlines\n",
    "import warnings\n",
    "from datetime import datetime\n",
    "import sys\n",
    "\n",
    "warnings.filterwarnings('ignore')"
   ]
  },
  {
   "cell_type": "code",
   "execution_count": 31,
   "metadata": {},
   "outputs": [
    {
     "name": "stdout",
     "output_type": "stream",
     "text": [
      "[*********************100%%**********************]  1 of 1 completed\n",
      "[*********************100%%**********************]  1 of 1 completed\n",
      "[*********************100%%**********************]  1 of 1 completed\n"
     ]
    }
   ],
   "source": [
    "# Data Collecting\n",
    "\n",
    "# Traditional Asset Classes Study. 1- Local (EM) Equities, 2- Developed Market Equities, 3- Real Estate, 4- Cash (country rates)\n",
    "# IBOV, IVV (S&P500 + USD/BRL), IFIX, CDI, respectively.\n",
    "\n",
    "# Defining dates range\n",
    "start_date = '2004-01-01'\n",
    "end_date = '2023-10-20'\n",
    "start_date_br = datetime.strptime(start_date, '%Y-%m-%d').strftime('%d/%m/%Y')\n",
    "end_date_br = datetime.strptime(end_date, '%Y-%m-%d').strftime('%d/%m/%Y')\n",
    "\n",
    "# Symbols on YahooFinance\n",
    "dollar_symbol = 'BRL=X'\n",
    "sp500_symbol = 'IVV'\n",
    "ibov_symbol = '^BVSP'\n",
    "\n",
    "# Simple Returns will be used, mainly because of Asset combinations on portfolio. Solely evaluated, Log-Returns would do better.\n",
    "\n",
    "# IBOV Data - Yahoo Finance\n",
    "ibov_data = yf.download(ibov_symbol, start=start_date, end=end_date)\n",
    "\n",
    "# IFIX Data - Reading local spreadsheet file. Collected w/ Google Sheets & Google Finance. YF doesn't have the data.\n",
    "ifix_data = pd.read_excel('Historico IFIX 01-01-2013 ate 20-10-2023.xlsx', index_col='Date')\n",
    "# Filtering. IFIX Start Date: set/2012)\n",
    "ifix_data = ifix_data[(ifix_data.index >= start_date) & (ifix_data.index <= end_date)]\n",
    "ifix_data.index = ifix_data.index.normalize()\n",
    "\n",
    "# IVV Data - S&P500 index variation + USD/BRL exchange.\n",
    "dollar_data = yf.download(dollar_symbol, start=start_date, end=end_date)\n",
    "sp500_data = yf.download(sp500_symbol, start=start_date, end=end_date)\n",
    "# Joining to combine variations\n",
    "ivv_data = pd.concat([dollar_data['Close'], sp500_data['Close']], axis=1)\n",
    "ivv_data.columns = ['Dollar', 'SP500']\n",
    "\n",
    "# CDI Data - Central Bank API. Fetch and returns an interval with daily Selic rates data\n",
    "url_bcb = f'https://api.bcb.gov.br/dados/serie/bcdata.sgs.11/dados?formato=json&dataInicial={start_date_br}&dataFinal={end_date_br}'\n",
    "cdi_data = pd.read_json(url_bcb)\n",
    "cdi_data['data'] = pd.to_datetime(cdi_data['data'], format='%d/%m/%Y')\n",
    "cdi_data = cdi_data.set_index('data')"
   ]
  },
  {
   "cell_type": "code",
   "execution_count": 46,
   "metadata": {},
   "outputs": [
    {
     "name": "stdout",
     "output_type": "stream",
     "text": [
      " IBOV Avg Return  IBOV Std Dev\n",
      "       12.062644     18.079011 \n",
      "\n",
      " IFIX Avg Return  IFIX Std Dev\n",
      "        6.912262      4.891274 \n",
      "\n",
      " Dollar Avg Return  SP500 Avg Return  IVV Avg Return  Dollar Std Dev  SP500 Std Dev  IVV Std Dev\n",
      "          4.499953          8.340241       12.840194       13.143786      15.021886    19.110095 \n",
      "\n",
      " CDI Avg Return  CDI Std Dev\n",
      "      10.221012     3.725367 \n",
      "\n"
     ]
    }
   ],
   "source": [
    "# Data Processing: Cleaning & Standardization\n",
    "\n",
    "# IBOV Data\n",
    "ibov_data_daily_pctg = pd.DataFrame(ibov_data['Adj Close'].pct_change().fillna(0)*100)\n",
    "ibov_avg_return = ibov_data_daily_pctg.mean()*252\n",
    "ibov_avg_return = ibov_avg_return.rename({'Adj Close': 'IBOV Avg Return'})\n",
    "ibov_std_dev = ibov_data_daily_pctg.ewm(span=252).std().iloc[-1] * np.sqrt(252)\n",
    "ibov_std_dev = ibov_std_dev.rename({'Adj Close': 'IBOV Std Dev'})\n",
    "ibov_stat_data = pd.DataFrame(pd.concat([ibov_avg_return, ibov_std_dev])).transpose()\n",
    "ibov_data_daily_pctg = ibov_data_daily_pctg.rename(columns={'Adj Close': 'IBOV'})\n",
    "print(ibov_stat_data.to_string(index=False), \"\\n\")\n",
    "\n",
    "# IFIX Data\n",
    "ifix_data_daily_pctg = pd.DataFrame(ifix_data['Close'].pct_change().fillna(0)*100)\n",
    "ifix_avg_return = ifix_data_daily_pctg.mean()*252\n",
    "ifix_avg_return = ifix_avg_return.rename({'Close': 'IFIX Avg Return'})\n",
    "ifix_std_dev = ifix_data_daily_pctg.ewm(span=252).std().iloc[-1] * np.sqrt(252)\n",
    "ifix_std_dev = ifix_std_dev.rename({'Close': 'IFIX Std Dev'})\n",
    "ifix_stat_data = pd.DataFrame(pd.concat([ifix_avg_return, ifix_std_dev])).transpose()\n",
    "ifix_data_daily_pctg = ifix_data_daily_pctg.rename(columns={'Close': 'IFIX'})\n",
    "print(ifix_stat_data.to_string(index=False), \"\\n\")\n",
    "\n",
    "# IVV Data\n",
    "ivv_data_daily_pctg = pd.DataFrame(ivv_data.pct_change().fillna(0)*100)\n",
    "ivv_data_daily_pctg['IVV'] =  ivv_data_daily_pctg['Dollar'] + ivv_data_daily_pctg['SP500'] # Adding up variations\n",
    "ivv_data_daily_pctg.drop(ivv_data_daily_pctg[['Dollar', 'SP500']], axis=1)\n",
    "ivv_avg_return = ivv_data_daily_pctg.mean()*252\n",
    "ivv_avg_return = ivv_avg_return.rename({'Dollar': 'Dollar Avg Return', 'SP500': 'SP500 Avg Return', 'IVV': 'IVV Avg Return'})\n",
    "ivv_std_dev = ivv_data_daily_pctg.ewm(span=252).std().iloc[-1] * np.sqrt(252)\n",
    "ivv_std_dev = ivv_std_dev.rename({'Dollar': 'Dollar Std Dev', 'SP500': 'SP500 Std Dev', 'IVV': 'IVV Std Dev'})\n",
    "ivv_stat_data = pd.DataFrame(pd.concat([ivv_avg_return, ivv_std_dev])).transpose()\n",
    "print(ivv_stat_data.to_string(index=False), \"\\n\")\n",
    "\n",
    "# CDI Data\n",
    "cdi_data_daily_pctg = cdi_data\n",
    "cdi_avg_return = cdi_data_daily_pctg.mean()*252\n",
    "cdi_avg_return = cdi_avg_return.rename({'valor': 'CDI Avg Return'})\n",
    "cdi_std_dev = cdi_data_daily_pctg.std()*252\n",
    "cdi_std_dev = cdi_std_dev.rename({'valor': 'CDI Std Dev'})\n",
    "cdi_stat_data = pd.DataFrame(pd.concat([cdi_avg_return, cdi_std_dev])).transpose()\n",
    "cdi_data_daily_pctg = cdi_data_daily_pctg.rename(columns={'valor': 'CDI'})\n",
    "print(cdi_stat_data.to_string(index=False), \"\\n\")\n",
    "\n",
    "# Consolidated daily variation for all indices\n",
    "consolidated_variation = pd.concat([ibov_data_daily_pctg,\n",
    "                                    pd.DataFrame(ivv_data_daily_pctg['IVV']), \n",
    "                                    ifix_data_daily_pctg,\n",
    "                                    cdi_data_daily_pctg], axis=1).fillna(0)"
   ]
  },
  {
   "cell_type": "code",
   "execution_count": 48,
   "metadata": {},
   "outputs": [
    {
     "data": {
      "image/png": "[encoded data removed]",
      "text/plain": [
       "<Figure size 600x400 with 2 Axes>"
      ]
     },
     "metadata": {},
     "output_type": "display_data"
    }
   ],
   "source": [
    "# Correlation Matrix\n",
    "correlation_matrix = consolidated_variation.corr()\n",
    "\n",
    "# Seaborn map\n",
    "plt.figure(figsize=(6, 4))\n",
    "sns.heatmap(correlation_matrix, annot=True, cmap='coolwarm', fmt=\".2f\")\n",
    "plt.title('Correlation Matrix')  \n",
    "plt.show()\n",
    "\n",
    "# Covariance Matrix\n",
    "consolidated_variation_cov = consolidated_variation.cov()"
   ]
  },
  {
   "cell_type": "code",
   "execution_count": 54,
   "metadata": {},
   "outputs": [
    {
     "data": {
      "text/plain": [
       "IBOV    11.448299\n",
       "IVV     12.802897\n",
       "IFIX     3.577939\n",
       "CDI      9.844948\n",
       "dtype: float64"
      ]
     },
     "execution_count": 54,
     "metadata": {},
     "output_type": "execute_result"
    }
   ],
   "source": [
    "consolidated_variation.mean()*252"
   ]
  },
  {
   "cell_type": "code",
   "execution_count": null,
   "metadata": {},
   "outputs": [],
   "source": [
    "def my_function():\n",
    "    \"\"\"\n",
    "        Docstring. Primeira linha resumo da funcionalidade\n",
    "\n",
    "        Params: explicar cada parâmetro. separar a explicação de cada um deles em uma linha específica\n",
    "\n",
    "        Return: Se tiver um retorno, escrever sobre o retorno. Se tiver raise de exceções, \n",
    "    \"\"\"\n",
    "\n"
   ]
  }
 ],
 "metadata": {
  "kernelspec": {
   "display_name": "Python 3.11.2 64-bit",
   "language": "python",
   "name": "python3"
  },
  "language_info": {
   "codemirror_mode": {
    "name": "ipython",
    "version": 3
   },
   "file_extension": ".py",
   "mimetype": "text/x-python",
   "name": "python",
   "nbconvert_exporter": "python",
   "pygments_lexer": "ipython3",
   "version": "3.11.3"
  },
  "orig_nbformat": 4,
  "vscode": {
   "interpreter": {
    "hash": "5ed3783b1cfa37f0fa696bb81bc361141322c1ccb14df37088ac4e520892755d"
   }
  }
 },
 "nbformat": 4,
 "nbformat_minor": 2
}
